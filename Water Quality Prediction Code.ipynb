{
 "cells": [
  {
   "cell_type": "markdown",
   "id": "4069606e",
   "metadata": {},
   "source": [
    "# Importing the Libraries"
   ]
  },
  {
   "cell_type": "code",
   "execution_count": 2,
   "id": "37a3d7c2",
   "metadata": {},
   "outputs": [],
   "source": [
    "import numpy as np\n",
    "import pandas as pd\n",
    "import seaborn as sns\n",
    "import matplotlib.pyplot as plt\n",
    "import datetime\n",
    "from sklearn.preprocessing import StandardScaler\n",
    "from sklearn.preprocessing import MinMaxScaler\n",
    "from sklearn.model_selection import train_test_split\n",
    "from sklearn.linear_model import LinearRegression\n",
    "from sklearn.tree import DecisionTreeClassifier\n",
    "from sklearn.metrics import accuracy_score\n",
    "from sklearn.metrics import mean_squared_error"
   ]
  },
  {
   "cell_type": "code",
   "execution_count": 3,
   "id": "ef9dafa9",
   "metadata": {},
   "outputs": [],
   "source": [
    "#Reading the data\n",
    "df=pd.read_csv('IoTpond1.csv')"
   ]
  },
  {
   "cell_type": "code",
   "execution_count": 4,
   "id": "2228cb38",
   "metadata": {},
   "outputs": [
    {
     "data": {
      "text/html": [
       "<div>\n",
       "<style scoped>\n",
       "    .dataframe tbody tr th:only-of-type {\n",
       "        vertical-align: middle;\n",
       "    }\n",
       "\n",
       "    .dataframe tbody tr th {\n",
       "        vertical-align: top;\n",
       "    }\n",
       "\n",
       "    .dataframe thead th {\n",
       "        text-align: right;\n",
       "    }\n",
       "</style>\n",
       "<table border=\"1\" class=\"dataframe\">\n",
       "  <thead>\n",
       "    <tr style=\"text-align: right;\">\n",
       "      <th></th>\n",
       "      <th>created_at</th>\n",
       "      <th>entry_id</th>\n",
       "      <th>Temperature (C)</th>\n",
       "      <th>Turbidity(NTU)</th>\n",
       "      <th>Dissolved Oxygen(g/ml)</th>\n",
       "      <th>PH</th>\n",
       "      <th>Ammonia(g/ml)</th>\n",
       "      <th>Nitrate(g/ml)</th>\n",
       "      <th>Population</th>\n",
       "      <th>Fish_Length(cm)</th>\n",
       "      <th>Fish_Weight(g)</th>\n",
       "    </tr>\n",
       "  </thead>\n",
       "  <tbody>\n",
       "    <tr>\n",
       "      <th>0</th>\n",
       "      <td>2021-06-19 00:00:05 CET</td>\n",
       "      <td>1889</td>\n",
       "      <td>24.8750</td>\n",
       "      <td>100</td>\n",
       "      <td>4.505</td>\n",
       "      <td>8.43365</td>\n",
       "      <td>0.45842</td>\n",
       "      <td>193</td>\n",
       "      <td>50</td>\n",
       "      <td>7.11</td>\n",
       "      <td>2.91</td>\n",
       "    </tr>\n",
       "    <tr>\n",
       "      <th>1</th>\n",
       "      <td>2021-06-19 00:01:02 CET</td>\n",
       "      <td>1890</td>\n",
       "      <td>24.9375</td>\n",
       "      <td>100</td>\n",
       "      <td>6.601</td>\n",
       "      <td>8.43818</td>\n",
       "      <td>0.45842</td>\n",
       "      <td>194</td>\n",
       "      <td>50</td>\n",
       "      <td>7.11</td>\n",
       "      <td>2.91</td>\n",
       "    </tr>\n",
       "    <tr>\n",
       "      <th>2</th>\n",
       "      <td>2021-06-19 00:01:22 CET</td>\n",
       "      <td>1891</td>\n",
       "      <td>24.8750</td>\n",
       "      <td>100</td>\n",
       "      <td>15.797</td>\n",
       "      <td>8.42457</td>\n",
       "      <td>0.45842</td>\n",
       "      <td>192</td>\n",
       "      <td>50</td>\n",
       "      <td>7.11</td>\n",
       "      <td>2.91</td>\n",
       "    </tr>\n",
       "    <tr>\n",
       "      <th>3</th>\n",
       "      <td>2021-06-19 00:01:44 CET</td>\n",
       "      <td>1892</td>\n",
       "      <td>24.9375</td>\n",
       "      <td>100</td>\n",
       "      <td>5.046</td>\n",
       "      <td>8.43365</td>\n",
       "      <td>0.45842</td>\n",
       "      <td>193</td>\n",
       "      <td>50</td>\n",
       "      <td>7.11</td>\n",
       "      <td>2.91</td>\n",
       "    </tr>\n",
       "    <tr>\n",
       "      <th>4</th>\n",
       "      <td>2021-06-19 00:02:07 CET</td>\n",
       "      <td>1893</td>\n",
       "      <td>24.9375</td>\n",
       "      <td>100</td>\n",
       "      <td>38.407</td>\n",
       "      <td>8.40641</td>\n",
       "      <td>0.45842</td>\n",
       "      <td>192</td>\n",
       "      <td>50</td>\n",
       "      <td>7.11</td>\n",
       "      <td>2.91</td>\n",
       "    </tr>\n",
       "  </tbody>\n",
       "</table>\n",
       "</div>"
      ],
      "text/plain": [
       "                created_at  entry_id  Temperature (C)  Turbidity(NTU)  \\\n",
       "0  2021-06-19 00:00:05 CET      1889          24.8750             100   \n",
       "1  2021-06-19 00:01:02 CET      1890          24.9375             100   \n",
       "2  2021-06-19 00:01:22 CET      1891          24.8750             100   \n",
       "3  2021-06-19 00:01:44 CET      1892          24.9375             100   \n",
       "4  2021-06-19 00:02:07 CET      1893          24.9375             100   \n",
       "\n",
       "   Dissolved Oxygen(g/ml)       PH  Ammonia(g/ml)  Nitrate(g/ml)  Population  \\\n",
       "0                   4.505  8.43365        0.45842            193          50   \n",
       "1                   6.601  8.43818        0.45842            194          50   \n",
       "2                  15.797  8.42457        0.45842            192          50   \n",
       "3                   5.046  8.43365        0.45842            193          50   \n",
       "4                  38.407  8.40641        0.45842            192          50   \n",
       "\n",
       "   Fish_Length(cm)  Fish_Weight(g)  \n",
       "0             7.11            2.91  \n",
       "1             7.11            2.91  \n",
       "2             7.11            2.91  \n",
       "3             7.11            2.91  \n",
       "4             7.11            2.91  "
      ]
     },
     "execution_count": 4,
     "metadata": {},
     "output_type": "execute_result"
    }
   ],
   "source": [
    "df.head(5)"
   ]
  },
  {
   "cell_type": "markdown",
   "id": "1c4064c2",
   "metadata": {},
   "source": [
    "# DATA PREPARATION"
   ]
  },
  {
   "cell_type": "code",
   "execution_count": 5,
   "id": "aec89d9a",
   "metadata": {},
   "outputs": [
    {
     "name": "stdout",
     "output_type": "stream",
     "text": [
      "created_at                 0\n",
      "entry_id                   0\n",
      "Temperature (C)            0\n",
      "Turbidity(NTU)             0\n",
      "Dissolved Oxygen(g/ml)     0\n",
      "PH                         0\n",
      "Ammonia(g/ml)             52\n",
      "Nitrate(g/ml)              0\n",
      "Population                 0\n",
      "Fish_Length(cm)            2\n",
      "Fish_Weight(g)             2\n",
      "dtype: int64\n"
     ]
    }
   ],
   "source": [
    "print(df.isnull().sum())"
   ]
  },
  {
   "cell_type": "code",
   "execution_count": 6,
   "id": "8f435597",
   "metadata": {},
   "outputs": [],
   "source": [
    "# Filling the NULL values of the column \"Ammonia(g/ml)\" by the mean value of the column itself\n",
    "\n",
    "df['Ammonia(g/ml)'].fillna(df['Ammonia(g/ml)'].mean(),inplace=True)"
   ]
  },
  {
   "cell_type": "code",
   "execution_count": 7,
   "id": "d24e681d",
   "metadata": {},
   "outputs": [
    {
     "name": "stdout",
     "output_type": "stream",
     "text": [
      "0         7.11\n",
      "1         7.11\n",
      "2         7.11\n",
      "3         7.11\n",
      "4         7.11\n",
      "         ...  \n",
      "83121    33.45\n",
      "83122    33.45\n",
      "83123    33.45\n",
      "83124    33.45\n",
      "83125    33.45\n",
      "Name: Fish_Length(cm), Length: 83126, dtype: float64\n",
      "                    created_at  entry_id  Temperature (C)  Turbidity(NTU)  \\\n",
      "0      2021-06-19 00:00:05 CET      1889          24.8750             100   \n",
      "1      2021-06-19 00:01:02 CET      1890          24.9375             100   \n",
      "2      2021-06-19 00:01:22 CET      1891          24.8750             100   \n",
      "3      2021-06-19 00:01:44 CET      1892          24.9375             100   \n",
      "4      2021-06-19 00:02:07 CET      1893          24.9375             100   \n",
      "...                        ...       ...              ...             ...   \n",
      "83121  2021-10-13 02:48:31 CET    247201          26.5625             100   \n",
      "83122  2021-10-13 03:17:36 CET    247273          26.5625             100   \n",
      "83123  2021-10-13 03:46:49 CET    247336          26.5000             100   \n",
      "83124  2021-10-13 04:13:23 CET    247402          26.3750             100   \n",
      "83125  2021-10-13 04:14:22 CET    247405          26.3750             100   \n",
      "\n",
      "       Dissolved Oxygen(g/ml)       PH  Ammonia(g/ml)  Nitrate(g/ml)  \\\n",
      "0                       4.505  8.43365        0.45842            193   \n",
      "1                       6.601  8.43818        0.45842            194   \n",
      "2                      15.797  8.42457        0.45842            192   \n",
      "3                       5.046  8.43365        0.45842            193   \n",
      "4                      38.407  8.40641        0.45842            192   \n",
      "...                       ...      ...            ...            ...   \n",
      "83121                   0.441  2.56412        5.91282            946   \n",
      "83122                   1.020  2.67760        4.21414            985   \n",
      "83123                   0.852  2.45063        8.18873            963   \n",
      "83124                   4.850  2.41885       10.62411            944   \n",
      "83125                   1.279  2.40524       10.07556            943   \n",
      "\n",
      "       Population  \n",
      "0              50  \n",
      "1              50  \n",
      "2              50  \n",
      "3              50  \n",
      "4              50  \n",
      "...           ...  \n",
      "83121          50  \n",
      "83122          50  \n",
      "83123          50  \n",
      "83124          50  \n",
      "83125          50  \n",
      "\n",
      "[83126 rows x 9 columns]\n"
     ]
    }
   ],
   "source": [
    "# Removing the irrelevant or redundant column (here \"Fish_Length(cm)\" and \"Fish_Weight(g)\") which doesn't \n",
    "# contribute to the prediction task\n",
    "\n",
    "columns_to_drop=['Fish_Length(cm)','Fish_Weight(g)']\n",
    "y=df.iloc[:,-2]\n",
    "print(y)\n",
    "df = df.drop(columns_to_drop, axis=1)\n",
    "x=df\n",
    "print(x)\n",
    "\n",
    "# y is the DataFrame that has only the dependent column \"Fish_Length(cm)\" before dropping the column from df.\n",
    "# x is the DataFrame contains all the independent variables used for training the model\n",
    "# obtained by dropping the columns 'Fish_Length(cm)' and \"Fish_Weight(g)\" from the original df "
   ]
  },
  {
   "cell_type": "code",
   "execution_count": 8,
   "id": "d09fb74b",
   "metadata": {},
   "outputs": [
    {
     "data": {
      "text/html": [
       "<div>\n",
       "<style scoped>\n",
       "    .dataframe tbody tr th:only-of-type {\n",
       "        vertical-align: middle;\n",
       "    }\n",
       "\n",
       "    .dataframe tbody tr th {\n",
       "        vertical-align: top;\n",
       "    }\n",
       "\n",
       "    .dataframe thead th {\n",
       "        text-align: right;\n",
       "    }\n",
       "</style>\n",
       "<table border=\"1\" class=\"dataframe\">\n",
       "  <thead>\n",
       "    <tr style=\"text-align: right;\">\n",
       "      <th></th>\n",
       "      <th>created_at</th>\n",
       "      <th>entry_id</th>\n",
       "      <th>Temperature (C)</th>\n",
       "      <th>Turbidity(NTU)</th>\n",
       "      <th>Dissolved Oxygen(g/ml)</th>\n",
       "      <th>PH</th>\n",
       "      <th>Ammonia(g/ml)</th>\n",
       "      <th>Nitrate(g/ml)</th>\n",
       "      <th>Population</th>\n",
       "    </tr>\n",
       "  </thead>\n",
       "  <tbody>\n",
       "    <tr>\n",
       "      <th>0</th>\n",
       "      <td>2021-06-19 00:00:05 CET</td>\n",
       "      <td>1889</td>\n",
       "      <td>24.8750</td>\n",
       "      <td>100</td>\n",
       "      <td>4.505</td>\n",
       "      <td>8.43365</td>\n",
       "      <td>0.45842</td>\n",
       "      <td>193</td>\n",
       "      <td>50</td>\n",
       "    </tr>\n",
       "    <tr>\n",
       "      <th>1</th>\n",
       "      <td>2021-06-19 00:01:02 CET</td>\n",
       "      <td>1890</td>\n",
       "      <td>24.9375</td>\n",
       "      <td>100</td>\n",
       "      <td>6.601</td>\n",
       "      <td>8.43818</td>\n",
       "      <td>0.45842</td>\n",
       "      <td>194</td>\n",
       "      <td>50</td>\n",
       "    </tr>\n",
       "    <tr>\n",
       "      <th>2</th>\n",
       "      <td>2021-06-19 00:01:22 CET</td>\n",
       "      <td>1891</td>\n",
       "      <td>24.8750</td>\n",
       "      <td>100</td>\n",
       "      <td>15.797</td>\n",
       "      <td>8.42457</td>\n",
       "      <td>0.45842</td>\n",
       "      <td>192</td>\n",
       "      <td>50</td>\n",
       "    </tr>\n",
       "    <tr>\n",
       "      <th>3</th>\n",
       "      <td>2021-06-19 00:01:44 CET</td>\n",
       "      <td>1892</td>\n",
       "      <td>24.9375</td>\n",
       "      <td>100</td>\n",
       "      <td>5.046</td>\n",
       "      <td>8.43365</td>\n",
       "      <td>0.45842</td>\n",
       "      <td>193</td>\n",
       "      <td>50</td>\n",
       "    </tr>\n",
       "    <tr>\n",
       "      <th>4</th>\n",
       "      <td>2021-06-19 00:02:07 CET</td>\n",
       "      <td>1893</td>\n",
       "      <td>24.9375</td>\n",
       "      <td>100</td>\n",
       "      <td>38.407</td>\n",
       "      <td>8.40641</td>\n",
       "      <td>0.45842</td>\n",
       "      <td>192</td>\n",
       "      <td>50</td>\n",
       "    </tr>\n",
       "  </tbody>\n",
       "</table>\n",
       "</div>"
      ],
      "text/plain": [
       "                created_at  entry_id  Temperature (C)  Turbidity(NTU)  \\\n",
       "0  2021-06-19 00:00:05 CET      1889          24.8750             100   \n",
       "1  2021-06-19 00:01:02 CET      1890          24.9375             100   \n",
       "2  2021-06-19 00:01:22 CET      1891          24.8750             100   \n",
       "3  2021-06-19 00:01:44 CET      1892          24.9375             100   \n",
       "4  2021-06-19 00:02:07 CET      1893          24.9375             100   \n",
       "\n",
       "   Dissolved Oxygen(g/ml)       PH  Ammonia(g/ml)  Nitrate(g/ml)  Population  \n",
       "0                   4.505  8.43365        0.45842            193          50  \n",
       "1                   6.601  8.43818        0.45842            194          50  \n",
       "2                  15.797  8.42457        0.45842            192          50  \n",
       "3                   5.046  8.43365        0.45842            193          50  \n",
       "4                  38.407  8.40641        0.45842            192          50  "
      ]
     },
     "execution_count": 8,
     "metadata": {},
     "output_type": "execute_result"
    }
   ],
   "source": [
    "df.head()"
   ]
  },
  {
   "cell_type": "code",
   "execution_count": 9,
   "id": "1b3b1249",
   "metadata": {},
   "outputs": [
    {
     "data": {
      "text/plain": [
       "created_at                0\n",
       "entry_id                  0\n",
       "Temperature (C)           0\n",
       "Turbidity(NTU)            0\n",
       "Dissolved Oxygen(g/ml)    0\n",
       "PH                        0\n",
       "Ammonia(g/ml)             0\n",
       "Nitrate(g/ml)             0\n",
       "Population                0\n",
       "dtype: int64"
      ]
     },
     "execution_count": 9,
     "metadata": {},
     "output_type": "execute_result"
    }
   ],
   "source": [
    "df.isnull().sum()"
   ]
  },
  {
   "cell_type": "code",
   "execution_count": 10,
   "id": "e6ae431d",
   "metadata": {},
   "outputs": [],
   "source": [
    "df['created_at']=pd.to_datetime(df['created_at'],format='%Y-%m-%d %H:%M:%S %Z',utc=True)"
   ]
  },
  {
   "cell_type": "code",
   "execution_count": 11,
   "id": "c79dde88",
   "metadata": {},
   "outputs": [
    {
     "data": {
      "text/html": [
       "<div>\n",
       "<style scoped>\n",
       "    .dataframe tbody tr th:only-of-type {\n",
       "        vertical-align: middle;\n",
       "    }\n",
       "\n",
       "    .dataframe tbody tr th {\n",
       "        vertical-align: top;\n",
       "    }\n",
       "\n",
       "    .dataframe thead th {\n",
       "        text-align: right;\n",
       "    }\n",
       "</style>\n",
       "<table border=\"1\" class=\"dataframe\">\n",
       "  <thead>\n",
       "    <tr style=\"text-align: right;\">\n",
       "      <th></th>\n",
       "      <th>created_at</th>\n",
       "      <th>entry_id</th>\n",
       "      <th>Temperature (C)</th>\n",
       "      <th>Turbidity(NTU)</th>\n",
       "      <th>Dissolved Oxygen(g/ml)</th>\n",
       "      <th>PH</th>\n",
       "      <th>Ammonia(g/ml)</th>\n",
       "      <th>Nitrate(g/ml)</th>\n",
       "      <th>Population</th>\n",
       "    </tr>\n",
       "  </thead>\n",
       "  <tbody>\n",
       "    <tr>\n",
       "      <th>0</th>\n",
       "      <td>2021-06-18 22:00:05+00:00</td>\n",
       "      <td>1889</td>\n",
       "      <td>24.8750</td>\n",
       "      <td>100</td>\n",
       "      <td>4.505</td>\n",
       "      <td>8.43365</td>\n",
       "      <td>0.45842</td>\n",
       "      <td>193</td>\n",
       "      <td>50</td>\n",
       "    </tr>\n",
       "    <tr>\n",
       "      <th>1</th>\n",
       "      <td>2021-06-18 22:01:02+00:00</td>\n",
       "      <td>1890</td>\n",
       "      <td>24.9375</td>\n",
       "      <td>100</td>\n",
       "      <td>6.601</td>\n",
       "      <td>8.43818</td>\n",
       "      <td>0.45842</td>\n",
       "      <td>194</td>\n",
       "      <td>50</td>\n",
       "    </tr>\n",
       "    <tr>\n",
       "      <th>2</th>\n",
       "      <td>2021-06-18 22:01:22+00:00</td>\n",
       "      <td>1891</td>\n",
       "      <td>24.8750</td>\n",
       "      <td>100</td>\n",
       "      <td>15.797</td>\n",
       "      <td>8.42457</td>\n",
       "      <td>0.45842</td>\n",
       "      <td>192</td>\n",
       "      <td>50</td>\n",
       "    </tr>\n",
       "    <tr>\n",
       "      <th>3</th>\n",
       "      <td>2021-06-18 22:01:44+00:00</td>\n",
       "      <td>1892</td>\n",
       "      <td>24.9375</td>\n",
       "      <td>100</td>\n",
       "      <td>5.046</td>\n",
       "      <td>8.43365</td>\n",
       "      <td>0.45842</td>\n",
       "      <td>193</td>\n",
       "      <td>50</td>\n",
       "    </tr>\n",
       "    <tr>\n",
       "      <th>4</th>\n",
       "      <td>2021-06-18 22:02:07+00:00</td>\n",
       "      <td>1893</td>\n",
       "      <td>24.9375</td>\n",
       "      <td>100</td>\n",
       "      <td>38.407</td>\n",
       "      <td>8.40641</td>\n",
       "      <td>0.45842</td>\n",
       "      <td>192</td>\n",
       "      <td>50</td>\n",
       "    </tr>\n",
       "  </tbody>\n",
       "</table>\n",
       "</div>"
      ],
      "text/plain": [
       "                 created_at  entry_id  Temperature (C)  Turbidity(NTU)  \\\n",
       "0 2021-06-18 22:00:05+00:00      1889          24.8750             100   \n",
       "1 2021-06-18 22:01:02+00:00      1890          24.9375             100   \n",
       "2 2021-06-18 22:01:22+00:00      1891          24.8750             100   \n",
       "3 2021-06-18 22:01:44+00:00      1892          24.9375             100   \n",
       "4 2021-06-18 22:02:07+00:00      1893          24.9375             100   \n",
       "\n",
       "   Dissolved Oxygen(g/ml)       PH  Ammonia(g/ml)  Nitrate(g/ml)  Population  \n",
       "0                   4.505  8.43365        0.45842            193          50  \n",
       "1                   6.601  8.43818        0.45842            194          50  \n",
       "2                  15.797  8.42457        0.45842            192          50  \n",
       "3                   5.046  8.43365        0.45842            193          50  \n",
       "4                  38.407  8.40641        0.45842            192          50  "
      ]
     },
     "execution_count": 11,
     "metadata": {},
     "output_type": "execute_result"
    }
   ],
   "source": [
    "df.head()"
   ]
  },
  {
   "cell_type": "code",
   "execution_count": 12,
   "id": "46344ce7",
   "metadata": {},
   "outputs": [],
   "source": [
    "import datetime as dt"
   ]
  },
  {
   "cell_type": "code",
   "execution_count": 13,
   "id": "554216c6",
   "metadata": {},
   "outputs": [],
   "source": [
    "# Converting the date and time columns into the appropriate datetime format\n",
    "\n",
    "df['created_at']=pd.to_datetime(df.created_at)\n",
    "\n",
    "#splitting the 'created_at' column into seperate 'Date' and 'Time' columns using dt.date and dt.time attributes\n",
    "\n",
    "df[\"Date\"]=df[\"created_at\"].dt.date\n",
    "df[\"Time\"]=df[\"created_at\"].dt.time"
   ]
  },
  {
   "cell_type": "code",
   "execution_count": 14,
   "id": "4270caf1",
   "metadata": {},
   "outputs": [
    {
     "data": {
      "text/html": [
       "<div>\n",
       "<style scoped>\n",
       "    .dataframe tbody tr th:only-of-type {\n",
       "        vertical-align: middle;\n",
       "    }\n",
       "\n",
       "    .dataframe tbody tr th {\n",
       "        vertical-align: top;\n",
       "    }\n",
       "\n",
       "    .dataframe thead th {\n",
       "        text-align: right;\n",
       "    }\n",
       "</style>\n",
       "<table border=\"1\" class=\"dataframe\">\n",
       "  <thead>\n",
       "    <tr style=\"text-align: right;\">\n",
       "      <th></th>\n",
       "      <th>created_at</th>\n",
       "      <th>entry_id</th>\n",
       "      <th>Temperature (C)</th>\n",
       "      <th>Turbidity(NTU)</th>\n",
       "      <th>Dissolved Oxygen(g/ml)</th>\n",
       "      <th>PH</th>\n",
       "      <th>Ammonia(g/ml)</th>\n",
       "      <th>Nitrate(g/ml)</th>\n",
       "      <th>Population</th>\n",
       "      <th>Date</th>\n",
       "      <th>Time</th>\n",
       "    </tr>\n",
       "  </thead>\n",
       "  <tbody>\n",
       "    <tr>\n",
       "      <th>0</th>\n",
       "      <td>2021-06-18 22:00:05+00:00</td>\n",
       "      <td>1889</td>\n",
       "      <td>24.8750</td>\n",
       "      <td>100</td>\n",
       "      <td>4.505</td>\n",
       "      <td>8.43365</td>\n",
       "      <td>0.45842</td>\n",
       "      <td>193</td>\n",
       "      <td>50</td>\n",
       "      <td>2021-06-18</td>\n",
       "      <td>22:00:05</td>\n",
       "    </tr>\n",
       "    <tr>\n",
       "      <th>1</th>\n",
       "      <td>2021-06-18 22:01:02+00:00</td>\n",
       "      <td>1890</td>\n",
       "      <td>24.9375</td>\n",
       "      <td>100</td>\n",
       "      <td>6.601</td>\n",
       "      <td>8.43818</td>\n",
       "      <td>0.45842</td>\n",
       "      <td>194</td>\n",
       "      <td>50</td>\n",
       "      <td>2021-06-18</td>\n",
       "      <td>22:01:02</td>\n",
       "    </tr>\n",
       "    <tr>\n",
       "      <th>2</th>\n",
       "      <td>2021-06-18 22:01:22+00:00</td>\n",
       "      <td>1891</td>\n",
       "      <td>24.8750</td>\n",
       "      <td>100</td>\n",
       "      <td>15.797</td>\n",
       "      <td>8.42457</td>\n",
       "      <td>0.45842</td>\n",
       "      <td>192</td>\n",
       "      <td>50</td>\n",
       "      <td>2021-06-18</td>\n",
       "      <td>22:01:22</td>\n",
       "    </tr>\n",
       "    <tr>\n",
       "      <th>3</th>\n",
       "      <td>2021-06-18 22:01:44+00:00</td>\n",
       "      <td>1892</td>\n",
       "      <td>24.9375</td>\n",
       "      <td>100</td>\n",
       "      <td>5.046</td>\n",
       "      <td>8.43365</td>\n",
       "      <td>0.45842</td>\n",
       "      <td>193</td>\n",
       "      <td>50</td>\n",
       "      <td>2021-06-18</td>\n",
       "      <td>22:01:44</td>\n",
       "    </tr>\n",
       "    <tr>\n",
       "      <th>4</th>\n",
       "      <td>2021-06-18 22:02:07+00:00</td>\n",
       "      <td>1893</td>\n",
       "      <td>24.9375</td>\n",
       "      <td>100</td>\n",
       "      <td>38.407</td>\n",
       "      <td>8.40641</td>\n",
       "      <td>0.45842</td>\n",
       "      <td>192</td>\n",
       "      <td>50</td>\n",
       "      <td>2021-06-18</td>\n",
       "      <td>22:02:07</td>\n",
       "    </tr>\n",
       "  </tbody>\n",
       "</table>\n",
       "</div>"
      ],
      "text/plain": [
       "                 created_at  entry_id  Temperature (C)  Turbidity(NTU)  \\\n",
       "0 2021-06-18 22:00:05+00:00      1889          24.8750             100   \n",
       "1 2021-06-18 22:01:02+00:00      1890          24.9375             100   \n",
       "2 2021-06-18 22:01:22+00:00      1891          24.8750             100   \n",
       "3 2021-06-18 22:01:44+00:00      1892          24.9375             100   \n",
       "4 2021-06-18 22:02:07+00:00      1893          24.9375             100   \n",
       "\n",
       "   Dissolved Oxygen(g/ml)       PH  Ammonia(g/ml)  Nitrate(g/ml)  Population  \\\n",
       "0                   4.505  8.43365        0.45842            193          50   \n",
       "1                   6.601  8.43818        0.45842            194          50   \n",
       "2                  15.797  8.42457        0.45842            192          50   \n",
       "3                   5.046  8.43365        0.45842            193          50   \n",
       "4                  38.407  8.40641        0.45842            192          50   \n",
       "\n",
       "         Date      Time  \n",
       "0  2021-06-18  22:00:05  \n",
       "1  2021-06-18  22:01:02  \n",
       "2  2021-06-18  22:01:22  \n",
       "3  2021-06-18  22:01:44  \n",
       "4  2021-06-18  22:02:07  "
      ]
     },
     "execution_count": 14,
     "metadata": {},
     "output_type": "execute_result"
    }
   ],
   "source": [
    "df.head()"
   ]
  },
  {
   "cell_type": "code",
   "execution_count": 15,
   "id": "1f6b81a4",
   "metadata": {},
   "outputs": [],
   "source": [
    "#Dropping the original 'created_at' column using drop() method\n",
    "\n",
    "df.drop([\"created_at\"],axis=1,inplace=True)"
   ]
  },
  {
   "cell_type": "code",
   "execution_count": 16,
   "id": "8b6db0e6",
   "metadata": {},
   "outputs": [
    {
     "data": {
      "text/html": [
       "<div>\n",
       "<style scoped>\n",
       "    .dataframe tbody tr th:only-of-type {\n",
       "        vertical-align: middle;\n",
       "    }\n",
       "\n",
       "    .dataframe tbody tr th {\n",
       "        vertical-align: top;\n",
       "    }\n",
       "\n",
       "    .dataframe thead th {\n",
       "        text-align: right;\n",
       "    }\n",
       "</style>\n",
       "<table border=\"1\" class=\"dataframe\">\n",
       "  <thead>\n",
       "    <tr style=\"text-align: right;\">\n",
       "      <th></th>\n",
       "      <th>entry_id</th>\n",
       "      <th>Temperature (C)</th>\n",
       "      <th>Turbidity(NTU)</th>\n",
       "      <th>Dissolved Oxygen(g/ml)</th>\n",
       "      <th>PH</th>\n",
       "      <th>Ammonia(g/ml)</th>\n",
       "      <th>Nitrate(g/ml)</th>\n",
       "      <th>Population</th>\n",
       "      <th>Date</th>\n",
       "      <th>Time</th>\n",
       "    </tr>\n",
       "  </thead>\n",
       "  <tbody>\n",
       "    <tr>\n",
       "      <th>0</th>\n",
       "      <td>1889</td>\n",
       "      <td>24.8750</td>\n",
       "      <td>100</td>\n",
       "      <td>4.505</td>\n",
       "      <td>8.43365</td>\n",
       "      <td>0.45842</td>\n",
       "      <td>193</td>\n",
       "      <td>50</td>\n",
       "      <td>2021-06-18</td>\n",
       "      <td>22:00:05</td>\n",
       "    </tr>\n",
       "    <tr>\n",
       "      <th>1</th>\n",
       "      <td>1890</td>\n",
       "      <td>24.9375</td>\n",
       "      <td>100</td>\n",
       "      <td>6.601</td>\n",
       "      <td>8.43818</td>\n",
       "      <td>0.45842</td>\n",
       "      <td>194</td>\n",
       "      <td>50</td>\n",
       "      <td>2021-06-18</td>\n",
       "      <td>22:01:02</td>\n",
       "    </tr>\n",
       "    <tr>\n",
       "      <th>2</th>\n",
       "      <td>1891</td>\n",
       "      <td>24.8750</td>\n",
       "      <td>100</td>\n",
       "      <td>15.797</td>\n",
       "      <td>8.42457</td>\n",
       "      <td>0.45842</td>\n",
       "      <td>192</td>\n",
       "      <td>50</td>\n",
       "      <td>2021-06-18</td>\n",
       "      <td>22:01:22</td>\n",
       "    </tr>\n",
       "    <tr>\n",
       "      <th>3</th>\n",
       "      <td>1892</td>\n",
       "      <td>24.9375</td>\n",
       "      <td>100</td>\n",
       "      <td>5.046</td>\n",
       "      <td>8.43365</td>\n",
       "      <td>0.45842</td>\n",
       "      <td>193</td>\n",
       "      <td>50</td>\n",
       "      <td>2021-06-18</td>\n",
       "      <td>22:01:44</td>\n",
       "    </tr>\n",
       "    <tr>\n",
       "      <th>4</th>\n",
       "      <td>1893</td>\n",
       "      <td>24.9375</td>\n",
       "      <td>100</td>\n",
       "      <td>38.407</td>\n",
       "      <td>8.40641</td>\n",
       "      <td>0.45842</td>\n",
       "      <td>192</td>\n",
       "      <td>50</td>\n",
       "      <td>2021-06-18</td>\n",
       "      <td>22:02:07</td>\n",
       "    </tr>\n",
       "  </tbody>\n",
       "</table>\n",
       "</div>"
      ],
      "text/plain": [
       "   entry_id  Temperature (C)  Turbidity(NTU)  Dissolved Oxygen(g/ml)       PH  \\\n",
       "0      1889          24.8750             100                   4.505  8.43365   \n",
       "1      1890          24.9375             100                   6.601  8.43818   \n",
       "2      1891          24.8750             100                  15.797  8.42457   \n",
       "3      1892          24.9375             100                   5.046  8.43365   \n",
       "4      1893          24.9375             100                  38.407  8.40641   \n",
       "\n",
       "   Ammonia(g/ml)  Nitrate(g/ml)  Population        Date      Time  \n",
       "0        0.45842            193          50  2021-06-18  22:00:05  \n",
       "1        0.45842            194          50  2021-06-18  22:01:02  \n",
       "2        0.45842            192          50  2021-06-18  22:01:22  \n",
       "3        0.45842            193          50  2021-06-18  22:01:44  \n",
       "4        0.45842            192          50  2021-06-18  22:02:07  "
      ]
     },
     "execution_count": 16,
     "metadata": {},
     "output_type": "execute_result"
    }
   ],
   "source": [
    "df.head()"
   ]
  },
  {
   "cell_type": "code",
   "execution_count": 17,
   "id": "33d57b56",
   "metadata": {},
   "outputs": [],
   "source": [
    "#Converting the 'Date' and 'Time' columns into the appropriate datetime format\n",
    "\n",
    "df['Date']=pd.to_datetime(df['Date'],errors='coerce')\n",
    "df['Date']=pd.to_numeric(df['Date'])"
   ]
  },
  {
   "cell_type": "code",
   "execution_count": 18,
   "id": "e68ccde0",
   "metadata": {},
   "outputs": [
    {
     "data": {
      "text/html": [
       "<div>\n",
       "<style scoped>\n",
       "    .dataframe tbody tr th:only-of-type {\n",
       "        vertical-align: middle;\n",
       "    }\n",
       "\n",
       "    .dataframe tbody tr th {\n",
       "        vertical-align: top;\n",
       "    }\n",
       "\n",
       "    .dataframe thead th {\n",
       "        text-align: right;\n",
       "    }\n",
       "</style>\n",
       "<table border=\"1\" class=\"dataframe\">\n",
       "  <thead>\n",
       "    <tr style=\"text-align: right;\">\n",
       "      <th></th>\n",
       "      <th>entry_id</th>\n",
       "      <th>Temperature (C)</th>\n",
       "      <th>Turbidity(NTU)</th>\n",
       "      <th>Dissolved Oxygen(g/ml)</th>\n",
       "      <th>PH</th>\n",
       "      <th>Ammonia(g/ml)</th>\n",
       "      <th>Nitrate(g/ml)</th>\n",
       "      <th>Population</th>\n",
       "      <th>Date</th>\n",
       "      <th>Time</th>\n",
       "    </tr>\n",
       "  </thead>\n",
       "  <tbody>\n",
       "    <tr>\n",
       "      <th>0</th>\n",
       "      <td>1889</td>\n",
       "      <td>24.8750</td>\n",
       "      <td>100</td>\n",
       "      <td>4.505</td>\n",
       "      <td>8.43365</td>\n",
       "      <td>0.45842</td>\n",
       "      <td>193</td>\n",
       "      <td>50</td>\n",
       "      <td>1623974400000000000</td>\n",
       "      <td>22:00:05</td>\n",
       "    </tr>\n",
       "    <tr>\n",
       "      <th>1</th>\n",
       "      <td>1890</td>\n",
       "      <td>24.9375</td>\n",
       "      <td>100</td>\n",
       "      <td>6.601</td>\n",
       "      <td>8.43818</td>\n",
       "      <td>0.45842</td>\n",
       "      <td>194</td>\n",
       "      <td>50</td>\n",
       "      <td>1623974400000000000</td>\n",
       "      <td>22:01:02</td>\n",
       "    </tr>\n",
       "    <tr>\n",
       "      <th>2</th>\n",
       "      <td>1891</td>\n",
       "      <td>24.8750</td>\n",
       "      <td>100</td>\n",
       "      <td>15.797</td>\n",
       "      <td>8.42457</td>\n",
       "      <td>0.45842</td>\n",
       "      <td>192</td>\n",
       "      <td>50</td>\n",
       "      <td>1623974400000000000</td>\n",
       "      <td>22:01:22</td>\n",
       "    </tr>\n",
       "    <tr>\n",
       "      <th>3</th>\n",
       "      <td>1892</td>\n",
       "      <td>24.9375</td>\n",
       "      <td>100</td>\n",
       "      <td>5.046</td>\n",
       "      <td>8.43365</td>\n",
       "      <td>0.45842</td>\n",
       "      <td>193</td>\n",
       "      <td>50</td>\n",
       "      <td>1623974400000000000</td>\n",
       "      <td>22:01:44</td>\n",
       "    </tr>\n",
       "    <tr>\n",
       "      <th>4</th>\n",
       "      <td>1893</td>\n",
       "      <td>24.9375</td>\n",
       "      <td>100</td>\n",
       "      <td>38.407</td>\n",
       "      <td>8.40641</td>\n",
       "      <td>0.45842</td>\n",
       "      <td>192</td>\n",
       "      <td>50</td>\n",
       "      <td>1623974400000000000</td>\n",
       "      <td>22:02:07</td>\n",
       "    </tr>\n",
       "  </tbody>\n",
       "</table>\n",
       "</div>"
      ],
      "text/plain": [
       "   entry_id  Temperature (C)  Turbidity(NTU)  Dissolved Oxygen(g/ml)       PH  \\\n",
       "0      1889          24.8750             100                   4.505  8.43365   \n",
       "1      1890          24.9375             100                   6.601  8.43818   \n",
       "2      1891          24.8750             100                  15.797  8.42457   \n",
       "3      1892          24.9375             100                   5.046  8.43365   \n",
       "4      1893          24.9375             100                  38.407  8.40641   \n",
       "\n",
       "   Ammonia(g/ml)  Nitrate(g/ml)  Population                 Date      Time  \n",
       "0        0.45842            193          50  1623974400000000000  22:00:05  \n",
       "1        0.45842            194          50  1623974400000000000  22:01:02  \n",
       "2        0.45842            192          50  1623974400000000000  22:01:22  \n",
       "3        0.45842            193          50  1623974400000000000  22:01:44  \n",
       "4        0.45842            192          50  1623974400000000000  22:02:07  "
      ]
     },
     "execution_count": 18,
     "metadata": {},
     "output_type": "execute_result"
    }
   ],
   "source": [
    "df.head()"
   ]
  },
  {
   "cell_type": "code",
   "execution_count": 19,
   "id": "30e044b1",
   "metadata": {},
   "outputs": [],
   "source": [
    "df['Time']=pd.to_datetime(df['Time'],errors='coerce')\n",
    "df['Time']=pd.to_numeric(df['Time'])"
   ]
  },
  {
   "cell_type": "code",
   "execution_count": 20,
   "id": "8e29e3a8",
   "metadata": {},
   "outputs": [
    {
     "data": {
      "text/html": [
       "<div>\n",
       "<style scoped>\n",
       "    .dataframe tbody tr th:only-of-type {\n",
       "        vertical-align: middle;\n",
       "    }\n",
       "\n",
       "    .dataframe tbody tr th {\n",
       "        vertical-align: top;\n",
       "    }\n",
       "\n",
       "    .dataframe thead th {\n",
       "        text-align: right;\n",
       "    }\n",
       "</style>\n",
       "<table border=\"1\" class=\"dataframe\">\n",
       "  <thead>\n",
       "    <tr style=\"text-align: right;\">\n",
       "      <th></th>\n",
       "      <th>entry_id</th>\n",
       "      <th>Temperature (C)</th>\n",
       "      <th>Turbidity(NTU)</th>\n",
       "      <th>Dissolved Oxygen(g/ml)</th>\n",
       "      <th>PH</th>\n",
       "      <th>Ammonia(g/ml)</th>\n",
       "      <th>Nitrate(g/ml)</th>\n",
       "      <th>Population</th>\n",
       "      <th>Date</th>\n",
       "      <th>Time</th>\n",
       "    </tr>\n",
       "  </thead>\n",
       "  <tbody>\n",
       "    <tr>\n",
       "      <th>0</th>\n",
       "      <td>1889</td>\n",
       "      <td>24.8750</td>\n",
       "      <td>100</td>\n",
       "      <td>4.505</td>\n",
       "      <td>8.43365</td>\n",
       "      <td>0.45842</td>\n",
       "      <td>193</td>\n",
       "      <td>50</td>\n",
       "      <td>1623974400000000000</td>\n",
       "      <td>-9223372036854775808</td>\n",
       "    </tr>\n",
       "    <tr>\n",
       "      <th>1</th>\n",
       "      <td>1890</td>\n",
       "      <td>24.9375</td>\n",
       "      <td>100</td>\n",
       "      <td>6.601</td>\n",
       "      <td>8.43818</td>\n",
       "      <td>0.45842</td>\n",
       "      <td>194</td>\n",
       "      <td>50</td>\n",
       "      <td>1623974400000000000</td>\n",
       "      <td>-9223372036854775808</td>\n",
       "    </tr>\n",
       "    <tr>\n",
       "      <th>2</th>\n",
       "      <td>1891</td>\n",
       "      <td>24.8750</td>\n",
       "      <td>100</td>\n",
       "      <td>15.797</td>\n",
       "      <td>8.42457</td>\n",
       "      <td>0.45842</td>\n",
       "      <td>192</td>\n",
       "      <td>50</td>\n",
       "      <td>1623974400000000000</td>\n",
       "      <td>-9223372036854775808</td>\n",
       "    </tr>\n",
       "    <tr>\n",
       "      <th>3</th>\n",
       "      <td>1892</td>\n",
       "      <td>24.9375</td>\n",
       "      <td>100</td>\n",
       "      <td>5.046</td>\n",
       "      <td>8.43365</td>\n",
       "      <td>0.45842</td>\n",
       "      <td>193</td>\n",
       "      <td>50</td>\n",
       "      <td>1623974400000000000</td>\n",
       "      <td>-9223372036854775808</td>\n",
       "    </tr>\n",
       "    <tr>\n",
       "      <th>4</th>\n",
       "      <td>1893</td>\n",
       "      <td>24.9375</td>\n",
       "      <td>100</td>\n",
       "      <td>38.407</td>\n",
       "      <td>8.40641</td>\n",
       "      <td>0.45842</td>\n",
       "      <td>192</td>\n",
       "      <td>50</td>\n",
       "      <td>1623974400000000000</td>\n",
       "      <td>-9223372036854775808</td>\n",
       "    </tr>\n",
       "  </tbody>\n",
       "</table>\n",
       "</div>"
      ],
      "text/plain": [
       "   entry_id  Temperature (C)  Turbidity(NTU)  Dissolved Oxygen(g/ml)       PH  \\\n",
       "0      1889          24.8750             100                   4.505  8.43365   \n",
       "1      1890          24.9375             100                   6.601  8.43818   \n",
       "2      1891          24.8750             100                  15.797  8.42457   \n",
       "3      1892          24.9375             100                   5.046  8.43365   \n",
       "4      1893          24.9375             100                  38.407  8.40641   \n",
       "\n",
       "   Ammonia(g/ml)  Nitrate(g/ml)  Population                 Date  \\\n",
       "0        0.45842            193          50  1623974400000000000   \n",
       "1        0.45842            194          50  1623974400000000000   \n",
       "2        0.45842            192          50  1623974400000000000   \n",
       "3        0.45842            193          50  1623974400000000000   \n",
       "4        0.45842            192          50  1623974400000000000   \n",
       "\n",
       "                  Time  \n",
       "0 -9223372036854775808  \n",
       "1 -9223372036854775808  \n",
       "2 -9223372036854775808  \n",
       "3 -9223372036854775808  \n",
       "4 -9223372036854775808  "
      ]
     },
     "execution_count": 20,
     "metadata": {},
     "output_type": "execute_result"
    }
   ],
   "source": [
    "df.head()"
   ]
  },
  {
   "cell_type": "markdown",
   "id": "1d146610",
   "metadata": {},
   "source": [
    "## It checks each of the values in the column and replaces it with the previous value if it falls in the given range :"
   ]
  },
  {
   "cell_type": "code",
   "execution_count": 21,
   "id": "e8f3f190",
   "metadata": {},
   "outputs": [],
   "source": [
    "# Replacing the out-of-range values in the 'Temperature(C)' column with the previous valid value. \n",
    "\n",
    "for i in range(len(df)):\n",
    "    if df.iloc[i, df.columns.get_loc(\"Temperature (C)\")] < 23 or df.iloc[i, df.columns.get_loc(\"Temperature (C)\")] > 27:\n",
    "        df.iloc[i, df.columns.get_loc(\"Temperature (C)\")] = df.iloc[i - 1, df.columns.get_loc(\"Temperature (C)\")]"
   ]
  },
  {
   "cell_type": "code",
   "execution_count": 22,
   "id": "5ee4eb4b",
   "metadata": {},
   "outputs": [],
   "source": [
    "df.at[0,'PH']=7.2"
   ]
  },
  {
   "cell_type": "code",
   "execution_count": 23,
   "id": "da7b2559",
   "metadata": {},
   "outputs": [],
   "source": [
    "# Replacing the out-of-range values in the 'PH' column with the previous valid value. \n",
    "\n",
    "for i in range(len(df)):\n",
    "    if df.loc[i,\"PH\"]<6.5 or df.loc[i,\"PH\"]>7.5:\n",
    "        df.loc[i,\"PH\"]=df.loc[i-1,\"PH\"]"
   ]
  },
  {
   "cell_type": "code",
   "execution_count": 24,
   "id": "7760fe9b",
   "metadata": {},
   "outputs": [],
   "source": [
    "# Replacing the out-of-range values in the 'Dissolved Oxygen(g/ml)' column with the previous valid value. \n",
    "\n",
    "for i in range(1,len(df)):\n",
    "    if df.loc[i,\"Dissolved Oxygen(g/ml)\"]<4 or df.loc[i,\"Dissolved Oxygen(g/ml)\"]>15:\n",
    "        df.loc[i,\"Dissolved Oxygen(g/ml)\"]=df.loc[i-1,\"Dissolved Oxygen(g/ml)\"]\n",
    "        "
   ]
  },
  {
   "cell_type": "code",
   "execution_count": 26,
   "id": "ec804d02",
   "metadata": {},
   "outputs": [],
   "source": [
    "df.fillna(df.mean(),inplace=True)"
   ]
  },
  {
   "cell_type": "code",
   "execution_count": 27,
   "id": "6d1e0f01",
   "metadata": {},
   "outputs": [],
   "source": [
    "#1e9 is the value used to replace the infinite values permanently on the DataFrame df itself\n",
    "\n",
    "df.replace([np.inf,-np.inf],1e9,inplace=True)"
   ]
  },
  {
   "cell_type": "code",
   "execution_count": 28,
   "id": "6c47568a",
   "metadata": {},
   "outputs": [
    {
     "name": "stdout",
     "output_type": "stream",
     "text": [
      "entry_id                  0\n",
      "Temperature (C)           0\n",
      "Turbidity(NTU)            0\n",
      "Dissolved Oxygen(g/ml)    0\n",
      "PH                        0\n",
      "Ammonia(g/ml)             0\n",
      "Nitrate(g/ml)             0\n",
      "Population                0\n",
      "Date                      0\n",
      "Time                      0\n",
      "dtype: int64\n"
     ]
    }
   ],
   "source": [
    "print(df.isna().sum())\n",
    "x=df"
   ]
  },
  {
   "cell_type": "markdown",
   "id": "d1274720",
   "metadata": {},
   "source": [
    "# DATA SPLITTING:"
   ]
  },
  {
   "cell_type": "code",
   "execution_count": 29,
   "id": "927461bb",
   "metadata": {},
   "outputs": [],
   "source": [
    "from sklearn.model_selection import train_test_split\n",
    "#import statsmodels.formula.api as sm"
   ]
  },
  {
   "cell_type": "code",
   "execution_count": 30,
   "id": "552f0633",
   "metadata": {},
   "outputs": [
    {
     "data": {
      "text/html": [
       "<div>\n",
       "<style scoped>\n",
       "    .dataframe tbody tr th:only-of-type {\n",
       "        vertical-align: middle;\n",
       "    }\n",
       "\n",
       "    .dataframe tbody tr th {\n",
       "        vertical-align: top;\n",
       "    }\n",
       "\n",
       "    .dataframe thead th {\n",
       "        text-align: right;\n",
       "    }\n",
       "</style>\n",
       "<table border=\"1\" class=\"dataframe\">\n",
       "  <thead>\n",
       "    <tr style=\"text-align: right;\">\n",
       "      <th></th>\n",
       "      <th>entry_id</th>\n",
       "      <th>Temperature (C)</th>\n",
       "      <th>Turbidity(NTU)</th>\n",
       "      <th>Dissolved Oxygen(g/ml)</th>\n",
       "      <th>PH</th>\n",
       "      <th>Ammonia(g/ml)</th>\n",
       "      <th>Nitrate(g/ml)</th>\n",
       "      <th>Population</th>\n",
       "      <th>Date</th>\n",
       "      <th>Time</th>\n",
       "    </tr>\n",
       "  </thead>\n",
       "  <tbody>\n",
       "    <tr>\n",
       "      <th>0</th>\n",
       "      <td>1889</td>\n",
       "      <td>24.8750</td>\n",
       "      <td>100</td>\n",
       "      <td>4.505</td>\n",
       "      <td>7.2</td>\n",
       "      <td>0.45842</td>\n",
       "      <td>193</td>\n",
       "      <td>50</td>\n",
       "      <td>1623974400000000000</td>\n",
       "      <td>-9223372036854775808</td>\n",
       "    </tr>\n",
       "    <tr>\n",
       "      <th>1</th>\n",
       "      <td>1890</td>\n",
       "      <td>24.9375</td>\n",
       "      <td>100</td>\n",
       "      <td>6.601</td>\n",
       "      <td>7.2</td>\n",
       "      <td>0.45842</td>\n",
       "      <td>194</td>\n",
       "      <td>50</td>\n",
       "      <td>1623974400000000000</td>\n",
       "      <td>-9223372036854775808</td>\n",
       "    </tr>\n",
       "    <tr>\n",
       "      <th>2</th>\n",
       "      <td>1891</td>\n",
       "      <td>24.8750</td>\n",
       "      <td>100</td>\n",
       "      <td>6.601</td>\n",
       "      <td>7.2</td>\n",
       "      <td>0.45842</td>\n",
       "      <td>192</td>\n",
       "      <td>50</td>\n",
       "      <td>1623974400000000000</td>\n",
       "      <td>-9223372036854775808</td>\n",
       "    </tr>\n",
       "    <tr>\n",
       "      <th>3</th>\n",
       "      <td>1892</td>\n",
       "      <td>24.9375</td>\n",
       "      <td>100</td>\n",
       "      <td>5.046</td>\n",
       "      <td>7.2</td>\n",
       "      <td>0.45842</td>\n",
       "      <td>193</td>\n",
       "      <td>50</td>\n",
       "      <td>1623974400000000000</td>\n",
       "      <td>-9223372036854775808</td>\n",
       "    </tr>\n",
       "    <tr>\n",
       "      <th>4</th>\n",
       "      <td>1893</td>\n",
       "      <td>24.9375</td>\n",
       "      <td>100</td>\n",
       "      <td>5.046</td>\n",
       "      <td>7.2</td>\n",
       "      <td>0.45842</td>\n",
       "      <td>192</td>\n",
       "      <td>50</td>\n",
       "      <td>1623974400000000000</td>\n",
       "      <td>-9223372036854775808</td>\n",
       "    </tr>\n",
       "  </tbody>\n",
       "</table>\n",
       "</div>"
      ],
      "text/plain": [
       "   entry_id  Temperature (C)  Turbidity(NTU)  Dissolved Oxygen(g/ml)   PH  \\\n",
       "0      1889          24.8750             100                   4.505  7.2   \n",
       "1      1890          24.9375             100                   6.601  7.2   \n",
       "2      1891          24.8750             100                   6.601  7.2   \n",
       "3      1892          24.9375             100                   5.046  7.2   \n",
       "4      1893          24.9375             100                   5.046  7.2   \n",
       "\n",
       "   Ammonia(g/ml)  Nitrate(g/ml)  Population                 Date  \\\n",
       "0        0.45842            193          50  1623974400000000000   \n",
       "1        0.45842            194          50  1623974400000000000   \n",
       "2        0.45842            192          50  1623974400000000000   \n",
       "3        0.45842            193          50  1623974400000000000   \n",
       "4        0.45842            192          50  1623974400000000000   \n",
       "\n",
       "                  Time  \n",
       "0 -9223372036854775808  \n",
       "1 -9223372036854775808  \n",
       "2 -9223372036854775808  \n",
       "3 -9223372036854775808  \n",
       "4 -9223372036854775808  "
      ]
     },
     "execution_count": 30,
     "metadata": {},
     "output_type": "execute_result"
    }
   ],
   "source": [
    "df.head()"
   ]
  },
  {
   "cell_type": "code",
   "execution_count": 31,
   "id": "5e91677f",
   "metadata": {},
   "outputs": [],
   "source": [
    "# y is the DataFrame that has only the dependent column \"Fish_Length(cm)\" before dropping the column from df.\n",
    "# x is the DataFrame contains all the independent variables used for training the model\n",
    "# obtained by dropping the columns 'Fish_Length(cm)' and \"Fish_Weight(g)\" from the original df \n",
    "\n",
    "Xtrain, Xtest, ytrain, ytest = train_test_split(x, y, test_size=0.2,random_state=42)"
   ]
  },
  {
   "cell_type": "code",
   "execution_count": null,
   "id": "3ef49b34",
   "metadata": {},
   "outputs": [],
   "source": [
    "# test_size=0.2 specifies that 80% of the data will be used for training and 20% will be used for the testing."
   ]
  },
  {
   "cell_type": "code",
   "execution_count": 32,
   "id": "de8aede7",
   "metadata": {},
   "outputs": [
    {
     "name": "stdout",
     "output_type": "stream",
     "text": [
      "entry_id                  0\n",
      "Temperature (C)           0\n",
      "Turbidity(NTU)            0\n",
      "Dissolved Oxygen(g/ml)    0\n",
      "PH                        0\n",
      "Ammonia(g/ml)             0\n",
      "Nitrate(g/ml)             0\n",
      "Population                0\n",
      "Date                      0\n",
      "Time                      0\n",
      "dtype: int64\n",
      "2\n"
     ]
    }
   ],
   "source": [
    "# Assuming Xtrain and ytrain are your training data\n",
    "# Check for missing values\n",
    "\n",
    "print(Xtrain.isna().sum())\n",
    "print(ytrain.isna().sum())"
   ]
  },
  {
   "cell_type": "code",
   "execution_count": 33,
   "id": "52f109c2",
   "metadata": {},
   "outputs": [],
   "source": [
    "# Impute missing values or remove rows/columns\n",
    "Xtrain = Xtrain.fillna(Xtrain.mean())  # Impute missing values with mean\n",
    "ytrain = ytrain.fillna(ytrain.mean())  # Impute missing values with mean"
   ]
  },
  {
   "cell_type": "markdown",
   "id": "8f804bd2",
   "metadata": {},
   "source": [
    "# DATA SCALING:"
   ]
  },
  {
   "cell_type": "markdown",
   "id": "9dcf0266",
   "metadata": {},
   "source": [
    "## Aim is to normalize the input features to a similar scale.\n",
    "## The MinMaxScaler specifically scales the data so that each feature falls within the range [0,1]"
   ]
  },
  {
   "cell_type": "code",
   "execution_count": 34,
   "id": "1d95f20d",
   "metadata": {},
   "outputs": [],
   "source": [
    "# Scale features using MinMaxScaler for the training data\n",
    "\n",
    "scaler1 = MinMaxScaler()\n",
    "Xtrain_scaled = scaler1.fit_transform(Xtrain)"
   ]
  },
  {
   "cell_type": "code",
   "execution_count": 35,
   "id": "9de23364",
   "metadata": {},
   "outputs": [],
   "source": [
    "# Scale features using MinMaxScaler for the testing data\n",
    "\n",
    "scaler2 = MinMaxScaler()\n",
    "Xtest_scaled = scaler2.fit_transform(Xtest)"
   ]
  },
  {
   "cell_type": "markdown",
   "id": "665af255",
   "metadata": {},
   "source": [
    "# MODEL SELECTION AND TRAINING :"
   ]
  },
  {
   "cell_type": "markdown",
   "id": "4e89b38f",
   "metadata": {},
   "source": [
    "## 1. Linear Regression :"
   ]
  },
  {
   "cell_type": "code",
   "execution_count": 36,
   "id": "d7510cad",
   "metadata": {},
   "outputs": [
    {
     "data": {
      "text/plain": [
       "LinearRegression()"
      ]
     },
     "execution_count": 36,
     "metadata": {},
     "output_type": "execute_result"
    }
   ],
   "source": [
    "model=LinearRegression()\n",
    "model.fit(Xtrain,ytrain)"
   ]
  },
  {
   "cell_type": "markdown",
   "id": "adc463fc",
   "metadata": {},
   "source": [
    "## MODEL EVALUATION :"
   ]
  },
  {
   "cell_type": "code",
   "execution_count": 37,
   "id": "2a9ee92a",
   "metadata": {},
   "outputs": [
    {
     "name": "stdout",
     "output_type": "stream",
     "text": [
      "Training set Mean Squared Error: 0.8258349\n"
     ]
    }
   ],
   "source": [
    "y_pred_train=model.predict(Xtest)\n",
    "mse_train=mean_squared_error(ytest,y_pred_train)\n",
    "print(\"Training set Mean Squared Error: {:.7f}\".format(mse_train))"
   ]
  },
  {
   "cell_type": "code",
   "execution_count": 38,
   "id": "5348ac87",
   "metadata": {},
   "outputs": [
    {
     "name": "stdout",
     "output_type": "stream",
     "text": [
      "R2 Score :  0.9699594869123146\n"
     ]
    }
   ],
   "source": [
    "from sklearn.metrics import r2_score\n",
    "print(\"R2 Score : \",r2_score(ytest,y_pred_train))"
   ]
  },
  {
   "cell_type": "markdown",
   "id": "85311be9",
   "metadata": {},
   "source": [
    "## 2. Lasso Regression"
   ]
  },
  {
   "cell_type": "code",
   "execution_count": 39,
   "id": "f94dd4f4",
   "metadata": {},
   "outputs": [
    {
     "name": "stderr",
     "output_type": "stream",
     "text": [
      "C:\\ProgramData\\Anaconda3\\lib\\site-packages\\sklearn\\linear_model\\_coordinate_descent.py:647: ConvergenceWarning: Objective did not converge. You might want to increase the number of iterations, check the scale of the features or consider increasing regularisation. Duality gap: 2.605e+04, tolerance: 1.853e+02\n",
      "  model = cd_fast.enet_coordinate_descent(\n"
     ]
    }
   ],
   "source": [
    "from sklearn.linear_model import Lasso\n",
    "lasso=Lasso(alpha=0.1)\n",
    "lasso.fit(Xtrain,ytrain)\n",
    "y_pred=lasso.predict(Xtest)"
   ]
  },
  {
   "cell_type": "markdown",
   "id": "18aa4b13",
   "metadata": {},
   "source": [
    "## MODEL EVALUATION :"
   ]
  },
  {
   "cell_type": "code",
   "execution_count": 40,
   "id": "198097d2",
   "metadata": {},
   "outputs": [
    {
     "name": "stdout",
     "output_type": "stream",
     "text": [
      "Mean Squared Error :  0.8190190156720757\n"
     ]
    }
   ],
   "source": [
    "mse=mean_squared_error(ytest,y_pred)\n",
    "print(\"Mean Squared Error : \",mse)"
   ]
  },
  {
   "cell_type": "code",
   "execution_count": 41,
   "id": "3e0b8fba",
   "metadata": {},
   "outputs": [
    {
     "name": "stdout",
     "output_type": "stream",
     "text": [
      "R2 Score :  0.9702074198201143\n"
     ]
    }
   ],
   "source": [
    "from sklearn.metrics import r2_score\n",
    "print(\"R2 Score : \",r2_score(ytest,y_pred))"
   ]
  },
  {
   "cell_type": "markdown",
   "id": "db2db3f2",
   "metadata": {},
   "source": [
    "## 3.Decision Tree Regressor"
   ]
  },
  {
   "cell_type": "code",
   "execution_count": 42,
   "id": "c5ed62d5",
   "metadata": {},
   "outputs": [],
   "source": [
    "from sklearn.tree import DecisionTreeRegressor\n",
    "decision=DecisionTreeRegressor()"
   ]
  },
  {
   "cell_type": "code",
   "execution_count": 43,
   "id": "cb5627b0",
   "metadata": {},
   "outputs": [],
   "source": [
    "decision.fit(Xtrain,ytrain)\n",
    "y_pred11=decision.predict(Xtest)"
   ]
  },
  {
   "cell_type": "markdown",
   "id": "212db9e4",
   "metadata": {},
   "source": [
    "## MODEL EVALUATION :"
   ]
  },
  {
   "cell_type": "code",
   "execution_count": 44,
   "id": "bbd28174",
   "metadata": {},
   "outputs": [
    {
     "name": "stdout",
     "output_type": "stream",
     "text": [
      "Mean Squared Error : 0.0000217\n"
     ]
    }
   ],
   "source": [
    "mse3=mean_squared_error(ytest,y_pred11)\n",
    "print(\"Mean Squared Error : {:.7f}\".format(mse3))"
   ]
  },
  {
   "cell_type": "code",
   "execution_count": 45,
   "id": "fe7e0d5d",
   "metadata": {},
   "outputs": [
    {
     "name": "stdout",
     "output_type": "stream",
     "text": [
      "R2 Score :  0.9999992099513343\n"
     ]
    }
   ],
   "source": [
    "from sklearn.metrics import r2_score\n",
    "print(\"R2 Score : \",r2_score(ytest,y_pred11))"
   ]
  },
  {
   "cell_type": "markdown",
   "id": "d3481c44",
   "metadata": {},
   "source": [
    "# FINAL OUTPUT :"
   ]
  },
  {
   "cell_type": "code",
   "execution_count": 46,
   "id": "370d09dc",
   "metadata": {},
   "outputs": [
    {
     "data": {
      "image/png": "[encoded data removed]",
      "text/plain": [
       "<Figure size 640x480 with 1 Axes>"
      ]
     },
     "metadata": {},
     "output_type": "display_data"
    }
   ],
   "source": [
    "attribute=df['Temperature (C)']\n",
    "\n",
    "#Plot the histogram\n",
    "plt.hist(attribute,bins=10)  #Adjust the number of bins as needed\n",
    "plt.xlabel('Temperature (C)')\n",
    "plt.ylabel('Frequency')\n",
    "plt.title('Histogram of Temperature')\n",
    "plt.show()"
   ]
  },
  {
   "cell_type": "code",
   "execution_count": 47,
   "id": "7650099b",
   "metadata": {},
   "outputs": [
    {
     "data": {
      "image/png": "[encoded data removed]",
      "text/plain": [
       "<Figure size 640x480 with 1 Axes>"
      ]
     },
     "metadata": {},
     "output_type": "display_data"
    }
   ],
   "source": [
    "attribute=df['PH']\n",
    "\n",
    "#Plot the histogram\n",
    "plt.hist(attribute,bins=10)  #Adjust the number of bins as needed\n",
    "plt.xlabel('PH')\n",
    "plt.ylabel('Frequency')\n",
    "plt.title('Histogram of PH')\n",
    "plt.show()"
   ]
  },
  {
   "cell_type": "code",
   "execution_count": 48,
   "id": "32bd3bde",
   "metadata": {},
   "outputs": [
    {
     "data": {
      "image/png": "[encoded data removed]",
      "text/plain": [
       "<Figure size 640x480 with 1 Axes>"
      ]
     },
     "metadata": {},
     "output_type": "display_data"
    }
   ],
   "source": [
    "attribute=df['Dissolved Oxygen(g/ml)']\n",
    "\n",
    "#Plot the histogram\n",
    "plt.hist(attribute,bins=10)  #Adjust the number of bins as needed\n",
    "plt.xlabel('Dissolved Oxygen(g/ml)')\n",
    "plt.ylabel('Frequency')\n",
    "plt.title('Histogram of Dissolved Oxygen')\n",
    "plt.show()"
   ]
  },
  {
   "cell_type": "code",
   "execution_count": null,
   "id": "dc3a0e33",
   "metadata": {},
   "outputs": [],
   "source": []
  }
 ],
 "metadata": {
  "kernelspec": {
   "display_name": "Python 3 (ipykernel)",
   "language": "python",
   "name": "python3"
  },
  "language_info": {
   "codemirror_mode": {
    "name": "ipython",
    "version": 3
   },
   "file_extension": ".py",
   "mimetype": "text/x-python",
   "name": "python",
   "nbconvert_exporter": "python",
   "pygments_lexer": "ipython3",
   "version": "3.9.13"
  }
 },
 "nbformat": 4,
 "nbformat_minor": 5
}
